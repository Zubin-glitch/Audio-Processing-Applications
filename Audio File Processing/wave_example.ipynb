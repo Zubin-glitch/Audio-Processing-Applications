{
 "cells": [
  {
   "cell_type": "code",
   "execution_count": 7,
   "metadata": {},
   "outputs": [],
   "source": [
    "# major audio formats\n",
    "# .mp3 : Most famous but very lossy compression format\n",
    "# .flac :Lossless compression format \n",
    "# .wav : allows perfect reconstruction of original waveform, stores data in uncompressed way, audio quality best, larger files, .wav = waveform audio format\n",
    "\n"
   ]
  },
  {
   "cell_type": "code",
   "execution_count": 8,
   "metadata": {},
   "outputs": [],
   "source": [
    "import wave\n",
    "# Audio signal parameters:\n",
    "# -number of channels\n",
    "# -sample width\n",
    "# -framerate/sample_rate(No. of samples per second, standard: 44100 Hz)\n",
    "# -number of frames\n",
    "# -values of a frame"
   ]
  },
  {
   "cell_type": "code",
   "execution_count": 30,
   "metadata": {},
   "outputs": [
    {
     "name": "stdout",
     "output_type": "stream",
     "text": [
      "Params found on file: _wave_params(nchannels=1, sampwidth=2, framerate=22050, nframes=185146, comptype='NONE', compname='not compressed')\n",
      "Number of channels: 1\n",
      "Sample width: 2 bytes/sample\n",
      "Frame rate: 22050\n",
      "Compression Type: NONE\n",
      "Number of frames: 185146\n",
      "Compression Name: not compressed\n",
      "Duration of audio sample: 8.396643990929705 seconds\n",
      "<class 'bytes'> <class 'int'>\n",
      "370292\n"
     ]
    }
   ],
   "source": [
    "# Opening the .wav file and loading into a wave object while reading in binary form\n",
    "obj = wave.open(\"LJ025-0076.wav\", \"rb\")\n",
    "print(f\"Params found on file: {obj.getparams()}\")\n",
    "print(f\"Number of channels: {obj.getnchannels()}\")\n",
    "print(f\"Sample width: {obj.getsampwidth()} bytes/sample\")\n",
    "print(f\"Frame rate: {obj.getframerate()}\")\n",
    "print(f\"Compression Type: {obj.getcomptype()}\")\n",
    "print(f\"Number of frames: {obj.getnframes()}\")\n",
    "print(f\"Compression Name: {obj.getcompname()}\")\n",
    "\n",
    "audio_time = obj.getnframes() / obj.getframerate()\n",
    "print(f\"Duration of audio sample: {audio_time} seconds\")\n",
    "\n",
    "frames = obj.readframes(-1)\n",
    "print(type(frames), type(frames[0]))\n",
    "print(len(frames))\n",
    "\n",
    "obj_copy = wave.open(\"copiedFile.wav\", \"wb\")\n",
    "obj_copy.setnchannels(obj.getnchannels())\n",
    "obj_copy.setsampwidth(obj.getsampwidth())\n",
    "obj_copy.setframerate(obj.getframerate())\n",
    "\n",
    "\n",
    "obj_copy.writeframes(frames)\n",
    "# print(f'Copy audio file details: {obj_copy.getparams()}')\n",
    "\n",
    "# Close both objects to avoid data leakage\n",
    "obj.close()\n",
    "obj_copy.close()"
   ]
  }
 ],
 "metadata": {
  "kernelspec": {
   "display_name": "zubin_env_1023",
   "language": "python",
   "name": "python3"
  },
  "language_info": {
   "codemirror_mode": {
    "name": "ipython",
    "version": 3
   },
   "file_extension": ".py",
   "mimetype": "text/x-python",
   "name": "python",
   "nbconvert_exporter": "python",
   "pygments_lexer": "ipython3",
   "version": "3.10.13"
  }
 },
 "nbformat": 4,
 "nbformat_minor": 2
}
