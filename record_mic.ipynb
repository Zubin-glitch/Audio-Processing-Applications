{
 "cells": [
  {
   "cell_type": "code",
   "execution_count": null,
   "metadata": {},
   "outputs": [
    {
     "ename": "",
     "evalue": "",
     "output_type": "error",
     "traceback": [
      "\u001b[1;31mRunning cells with '/Users/zubintobias/.pyenv/versions/3.7.12/bin/python' requires the ipykernel package.\n",
      "\u001b[1;31mRun the following command to install 'ipykernel' into the Python environment. \n",
      "\u001b[1;31mCommand: '/Users/zubintobias/.pyenv/versions/3.7.12/bin/python -m pip install ipykernel -U --force-reinstall'"
     ]
    }
   ],
   "source": [
    "import pyaudio\n",
    "# import matplotlib.pyplot as plt\n",
    "# import numpy as np\n",
    "import wave\n",
    "\n"
   ]
  },
  {
   "cell_type": "code",
   "execution_count": null,
   "metadata": {},
   "outputs": [
    {
     "ename": "",
     "evalue": "",
     "output_type": "error",
     "traceback": [
      "\u001b[1;31mRunning cells with '/Users/zubintobias/.pyenv/versions/3.7.12/bin/python' requires the ipykernel package.\n",
      "\u001b[1;31mRun the following command to install 'ipykernel' into the Python environment. \n",
      "\u001b[1;31mCommand: '/Users/zubintobias/.pyenv/versions/3.7.12/bin/python -m pip install ipykernel -U --force-reinstall'"
     ]
    }
   ],
   "source": [
    "# Initializing constants\n",
    "FRAMES_PER_BUFFER = 3200\n",
    "FORMAT = pyaudio.paInt16\n",
    "CHANNELS = 1\n",
    "RATE = 48000\n"
   ]
  },
  {
   "cell_type": "code",
   "execution_count": null,
   "metadata": {},
   "outputs": [
    {
     "ename": "",
     "evalue": "",
     "output_type": "error",
     "traceback": [
      "\u001b[1;31mRunning cells with '/Users/zubintobias/.pyenv/versions/3.7.12/bin/python' requires the ipykernel package.\n",
      "\u001b[1;31mRun the following command to install 'ipykernel' into the Python environment. \n",
      "\u001b[1;31mCommand: '/Users/zubintobias/.pyenv/versions/3.7.12/bin/python -m pip install ipykernel -U --force-reinstall'"
     ]
    }
   ],
   "source": [
    "# Stream object is initialized and opened to begin recording\n",
    "pa = pyaudio.PyAudio()\n",
    "stream = pa.open(\n",
    "    format = FORMAT,\n",
    "    channels = CHANNELS,\n",
    "    rate = RATE,\n",
    "    input = True,\n",
    "    frames_per_buffer = FRAMES_PER_BUFFER,\n",
    "    input_device_index=0\n",
    ")\n",
    "print(\"Start Recording...\")\n",
    "\n",
    "# setting the length of the recording\n",
    "rec_time = 5\n",
    "frames = []\n",
    "\n",
    "for i in range(0, int(RATE/FRAMES_PER_BUFFER*rec_time)):\n",
    "    data = stream.read(FRAMES_PER_BUFFER)\n",
    "    frames.append(data)\n",
    "\n",
    "# Close all open streams since recording is completed\n",
    "stream.stop_stream()\n",
    "stream.close()\n",
    "pa.terminate()\n",
    "\n",
    "# Creating a new object to store the frames into a .wav file\n",
    "obj = wave.open(\"creation1.wav\", \"wb\")\n",
    "obj.setnchannels(CHANNELS)\n",
    "obj.setsampwidth(pa.get_sample_size(FORMAT))\n",
    "obj.setframerate(RATE)\n",
    "\n",
    "# converting the frames list into a binary array and writing it to the audio object to be saved as a file\n",
    "obj.writeframes(b\"\".join(frames)) \n",
    "obj.close()\n"
   ]
  }
 ],
 "metadata": {
  "kernelspec": {
   "display_name": "zubin_env_1023",
   "language": "python",
   "name": "python3"
  },
  "language_info": {
   "codemirror_mode": {
    "name": "ipython",
    "version": 3
   },
   "file_extension": ".py",
   "mimetype": "text/x-python",
   "name": "python",
   "nbconvert_exporter": "python",
   "pygments_lexer": "ipython3",
   "version": "3.7.12"
  }
 },
 "nbformat": 4,
 "nbformat_minor": 2
}
